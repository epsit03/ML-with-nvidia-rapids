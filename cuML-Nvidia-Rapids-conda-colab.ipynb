{
  "nbformat": 4,
  "nbformat_minor": 0,
  "metadata": {
    "colab": {
      "provenance": [],
      "include_colab_link": true
    },
    "kernelspec": {
      "name": "python3",
      "display_name": "Python 3"
    },
    "accelerator": "GPU"
  },
  "cells": [
    {
      "cell_type": "markdown",
      "metadata": {
        "id": "view-in-github",
        "colab_type": "text"
      },
      "source": [
        "<a href=\"https://colab.research.google.com/github/epsit03/ML-with-nvidia-rapids/blob/main/cuML-Nvidia-Rapids-conda-colab.ipynb\" target=\"_parent\"><img src=\"https://colab.research.google.com/assets/colab-badge.svg\" alt=\"Open In Colab\"/></a>"
      ]
    },
    {
      "cell_type": "markdown",
      "metadata": {
        "id": "scfLT2i0MLyD"
      },
      "source": [
        "# Environment Sanity Check #\n",
        "\n",
        "Click the _Runtime_ dropdown at the top of the page, then _Change Runtime Type_ and confirm the instance type is _GPU_.\n",
        "\n",
        "Check the output of `!nvidia-smi` to make sure you've been allocated a Tesla T4, P4, or P100."
      ]
    },
    {
      "cell_type": "code",
      "metadata": {
        "id": "67T0090Jk2KL",
        "outputId": "133c7d4f-2e24-4f7c-ff53-39bff2d642c2",
        "colab": {
          "base_uri": "https://localhost:8080/"
        }
      },
      "source": [
        "!nvidia-smi"
      ],
      "execution_count": 4,
      "outputs": [
        {
          "output_type": "stream",
          "name": "stdout",
          "text": [
            "Thu Sep  7 15:23:58 2023       \n",
            "+-----------------------------------------------------------------------------+\n",
            "| NVIDIA-SMI 525.105.17   Driver Version: 525.105.17   CUDA Version: 12.0     |\n",
            "|-------------------------------+----------------------+----------------------+\n",
            "| GPU  Name        Persistence-M| Bus-Id        Disp.A | Volatile Uncorr. ECC |\n",
            "| Fan  Temp  Perf  Pwr:Usage/Cap|         Memory-Usage | GPU-Util  Compute M. |\n",
            "|                               |                      |               MIG M. |\n",
            "|===============================+======================+======================|\n",
            "|   0  Tesla T4            Off  | 00000000:00:04.0 Off |                    0 |\n",
            "| N/A   38C    P8     9W /  70W |      0MiB / 15360MiB |      0%      Default |\n",
            "|                               |                      |                  N/A |\n",
            "+-------------------------------+----------------------+----------------------+\n",
            "                                                                               \n",
            "+-----------------------------------------------------------------------------+\n",
            "| Processes:                                                                  |\n",
            "|  GPU   GI   CI        PID   Type   Process name                  GPU Memory |\n",
            "|        ID   ID                                                   Usage      |\n",
            "|=============================================================================|\n",
            "|  No running processes found                                                 |\n",
            "+-----------------------------------------------------------------------------+\n"
          ]
        }
      ]
    },
    {
      "cell_type": "markdown",
      "metadata": {
        "id": "CtNdk7PSafKP"
      },
      "source": [
        "#Setup:\n",
        "Set up script installs\n",
        "1. Updates gcc in Colab\n",
        "1. Installs Conda\n",
        "1. Install RAPIDS' current stable version of its libraries, as well as some external libraries including:\n",
        "  1. cuDF\n",
        "  1. cuML\n",
        "  1. cuGraph\n",
        "  1. cuSpatial\n",
        "  1. cuSignal\n",
        "  1. BlazingSQL\n",
        "  1. xgboost\n",
        "1. Copy RAPIDS .so files into current working directory, a neccessary workaround for RAPIDS+Colab integration.\n"
      ]
    },
    {
      "cell_type": "code",
      "metadata": {
        "id": "B0C8IV5TQnjN",
        "outputId": "5fb17406-6c6b-4ea7-f784-a1c99fef4b68",
        "colab": {
          "base_uri": "https://localhost:8080/"
        }
      },
      "source": [
        "# This get the RAPIDS-Colab install files and test check your GPU.  Run this and the next cell only.\n",
        "# Please read the output of this cell.  If your Colab Instance is not RAPIDS compatible, it will warn you and give you remediation steps.\n",
        "!git clone https://github.com/rapidsai/rapidsai-csp-utils.git\n",
        "!python rapidsai-csp-utils/colab/env-check.py"
      ],
      "execution_count": 5,
      "outputs": [
        {
          "output_type": "stream",
          "name": "stdout",
          "text": [
            "fatal: destination path 'rapidsai-csp-utils' already exists and is not an empty directory.\n",
            "Collecting pynvml\n",
            "  Using cached pynvml-11.5.0-py3-none-any.whl (53 kB)\n",
            "Installing collected packages: pynvml\n",
            "Successfully installed pynvml-11.5.0\n",
            "WARNING: Running pip as the 'root' user can result in broken permissions and conflicting behaviour with the system package manager. It is recommended to use a virtual environment instead: https://pip.pypa.io/warnings/venv\n",
            "***********************************************************************\n",
            "Woo! Your instance has the right kind of GPU, a Tesla T4!\n",
            "We will now install RAPIDS via pip!  Please stand by, should be quick...\n",
            "***********************************************************************\n",
            "\n"
          ]
        }
      ]
    },
    {
      "cell_type": "code",
      "metadata": {
        "id": "4sKA_9Dbg4s2",
        "colab": {
          "base_uri": "https://localhost:8080/"
        },
        "outputId": "89bcc2f0-819b-4afe-bba3-f37b41a3f1e6"
      },
      "source": [
        "# This will update the Colab environment and restart the kernel.  Don't run the next cell until you see the session crash.\n",
        "!bash rapidsai-csp-utils/colab/update_gcc.sh\n",
        "import os\n",
        "os._exit(00)"
      ],
      "execution_count": null,
      "outputs": [
        {
          "output_type": "stream",
          "name": "stdout",
          "text": [
            "Updating your Colab environment.  This will restart your kernel.  Don't Panic!\n",
            "\u001b[33mWARNING: Running pip as the 'root' user can result in broken permissions and conflicting behaviour with the system package manager. It is recommended to use a virtual environment instead: https://pip.pypa.io/warnings/venv\u001b[0m\u001b[33m\n",
            "\u001b[0m\u001b[33mWARNING: Skipping cupy-cuda11x as it is not installed.\u001b[0m\u001b[33m\n",
            "\u001b[0m\u001b[33mWARNING: Running pip as the 'root' user can result in broken permissions and conflicting behaviour with the system package manager. It is recommended to use a virtual environment instead: https://pip.pypa.io/warnings/venv\u001b[0m\u001b[33m\n",
            "\u001b[0mPPA publishes dbgsym, you may need to include 'main/debug' component\n",
            "Repository: 'deb https://ppa.launchpadcontent.net/ubuntu-toolchain-r/test/ubuntu/ jammy main'\n",
            "Description:\n",
            "Toolchain test builds; see https://wiki.ubuntu.com/ToolChain\n",
            "\n",
            "More info: https://launchpad.net/~ubuntu-toolchain-r/+archive/ubuntu/test\n",
            "Adding repository.\n",
            "Found existing deb entry in /etc/apt/sources.list.d/ubuntu-toolchain-r-ubuntu-test-jammy.list\n",
            "Adding deb entry to /etc/apt/sources.list.d/ubuntu-toolchain-r-ubuntu-test-jammy.list\n",
            "Found existing deb-src entry in /etc/apt/sources.list.d/ubuntu-toolchain-r-ubuntu-test-jammy.list\n",
            "Adding disabled deb-src entry to /etc/apt/sources.list.d/ubuntu-toolchain-r-ubuntu-test-jammy.list\n",
            "Adding key to /etc/apt/trusted.gpg.d/ubuntu-toolchain-r-ubuntu-test.gpg with fingerprint 60C317803A41BA51845E371A1E9377A2BA9EF27F\n",
            "Hit:1 https://developer.download.nvidia.com/compute/cuda/repos/ubuntu2204/x86_64  InRelease\n",
            "Hit:2 http://archive.ubuntu.com/ubuntu jammy InRelease\n",
            "Hit:3 https://cloud.r-project.org/bin/linux/ubuntu jammy-cran40/ InRelease\n",
            "Hit:4 http://archive.ubuntu.com/ubuntu jammy-updates InRelease\n",
            "Hit:5 http://archive.ubuntu.com/ubuntu jammy-backports InRelease\n",
            "Hit:6 http://security.ubuntu.com/ubuntu jammy-security InRelease\n",
            "Hit:7 https://ppa.launchpadcontent.net/c2d4u.team/c2d4u4.0+/ubuntu jammy InRelease\n",
            "Hit:8 https://ppa.launchpadcontent.net/deadsnakes/ppa/ubuntu jammy InRelease\n",
            "Hit:9 https://ppa.launchpadcontent.net/graphics-drivers/ppa/ubuntu jammy InRelease\n",
            "Hit:10 https://ppa.launchpadcontent.net/ubuntu-toolchain-r/test/ubuntu jammy InRelease\n",
            "Hit:11 https://ppa.launchpadcontent.net/ubuntugis/ppa/ubuntu jammy InRelease\n",
            "Reading package lists... Done\n",
            "Added repo\n",
            "Hit:1 http://archive.ubuntu.com/ubuntu jammy InRelease\n",
            "Hit:2 http://archive.ubuntu.com/ubuntu jammy-updates InRelease\n",
            "Hit:3 http://archive.ubuntu.com/ubuntu jammy-backports InRelease\n",
            "Hit:4 https://cloud.r-project.org/bin/linux/ubuntu jammy-cran40/ InRelease\n",
            "Hit:5 https://developer.download.nvidia.com/compute/cuda/repos/ubuntu2204/x86_64  InRelease\n",
            "Hit:6 http://security.ubuntu.com/ubuntu jammy-security InRelease\n",
            "Hit:7 https://ppa.launchpadcontent.net/c2d4u.team/c2d4u4.0+/ubuntu jammy InRelease\n",
            "Hit:8 https://ppa.launchpadcontent.net/deadsnakes/ppa/ubuntu jammy InRelease\n",
            "Hit:9 https://ppa.launchpadcontent.net/graphics-drivers/ppa/ubuntu jammy InRelease\n",
            "Hit:10 https://ppa.launchpadcontent.net/ubuntu-toolchain-r/test/ubuntu jammy InRelease\n",
            "Hit:11 https://ppa.launchpadcontent.net/ubuntugis/ppa/ubuntu jammy InRelease\n",
            "Reading package lists... Done\n",
            "Installing libstdc++\n",
            "Reading package lists... Done\n",
            "Building dependency tree... Done\n",
            "Reading state information... Done\n",
            "Package libstdc++6 is not available, but is referred to by another package.\n",
            "This may mean that the package is missing, has been obsoleted, or\n",
            "is only available from another source\n",
            "\n",
            "E: Version '11.1.0*' for 'libstdc++6' was not found\n",
            "restarting Colab...\n"
          ]
        }
      ]
    },
    {
      "cell_type": "code",
      "metadata": {
        "id": "d1C4pNiBhYHX",
        "colab": {
          "base_uri": "https://localhost:8080/"
        },
        "outputId": "bfadd7c5-b8cb-459c-a2b6-5e570fc0a87a"
      },
      "source": [
        "# This will install CondaColab.  This will restart your kernel one last time.  Run this cell by itself and only run the next cell once you see the session crash.\n",
        "import condacolab\n",
        "condacolab.install()"
      ],
      "execution_count": 1,
      "outputs": [
        {
          "output_type": "stream",
          "name": "stdout",
          "text": [
            "✨🍰✨ Everything looks OK!\n"
          ]
        }
      ]
    },
    {
      "cell_type": "code",
      "metadata": {
        "id": "-Ko_pJZbhZrM",
        "colab": {
          "base_uri": "https://localhost:8080/"
        },
        "outputId": "6d289839-bdc2-466d-f496-19a1ace17862"
      },
      "source": [
        "# you can now run the rest of the cells as normal\n",
        "import condacolab\n",
        "condacolab.check()"
      ],
      "execution_count": 2,
      "outputs": [
        {
          "output_type": "stream",
          "name": "stdout",
          "text": [
            "✨🍰✨ Everything looks OK!\n"
          ]
        }
      ]
    },
    {
      "cell_type": "code",
      "metadata": {
        "id": "G_2dancFhf70",
        "outputId": "7bbd7ac9-319c-46ee-ab1e-1c8c7ca1c4db",
        "colab": {
          "base_uri": "https://localhost:8080/"
        }
      },
      "source": [
        "# Installing RAPIDS is now 'python rapidsai-csp-utils/colab/install_rapids.py <release> <packages>'\n",
        "# The <release> options are 'stable' and 'nightly'.  Leaving it blank or adding any other words will default to stable.\n",
        "!python rapidsai-csp-utils/colab/install_rapids.py stable\n",
        "import os\n",
        "os.environ['NUMBAPRO_NVVM'] = '/usr/local/cuda/nvvm/lib64/libnvvm.so'\n",
        "os.environ['NUMBAPRO_LIBDEVICE'] = '/usr/local/cuda/nvvm/libdevice/'\n",
        "os.environ['CONDA_PREFIX'] = '/usr/local'"
      ],
      "execution_count": 3,
      "outputs": [
        {
          "output_type": "stream",
          "name": "stdout",
          "text": [
            "Found existing installation: cffi 1.15.0\n",
            "Uninstalling cffi-1.15.0:\n",
            "  Successfully uninstalled cffi-1.15.0\n",
            "WARNING: Running pip as the 'root' user can result in broken permissions and conflicting behaviour with the system package manager. It is recommended to use a virtual environment instead: https://pip.pypa.io/warnings/venv\n",
            "WARNING: Skipping cryptography as it is not installed.\n",
            "WARNING: Running pip as the 'root' user can result in broken permissions and conflicting behaviour with the system package manager. It is recommended to use a virtual environment instead: https://pip.pypa.io/warnings/venv\n",
            "Collecting cffi==1.15.0\n",
            "  Using cached cffi-1.15.0-cp310-cp310-manylinux_2_12_x86_64.manylinux2010_x86_64.whl (446 kB)\n",
            "Requirement already satisfied: pycparser in /usr/local/lib/python3.10/site-packages (from cffi==1.15.0) (2.21)\n",
            "Installing collected packages: cffi\n",
            "Successfully installed cffi-1.15.0\n",
            "WARNING: Running pip as the 'root' user can result in broken permissions and conflicting behaviour with the system package manager. It is recommended to use a virtual environment instead: https://pip.pypa.io/warnings/venv\n",
            "Installing RAPIDS Stable 23.04\n",
            "Starting the RAPIDS install on Colab.  This will take about 15 minutes.\n",
            "Collecting package metadata (current_repodata.json): ...working... done\n",
            "Solving environment: ...working... failed with initial frozen solve. Retrying with flexible solve.\n",
            "Solving environment: ...working... failed with repodata from current_repodata.json, will retry with next repodata source.\n",
            "Collecting package metadata (repodata.json): ...working... done\n",
            "Solving environment: ...working...\n",
            "Warning: 2 possible package resolutions (only showing differing packages):\n",
            "  - conda-forge/noarch::anyio-3.7.1-pyhd8ed1ab_0, conda-forge/noarch::fastapi-0.103.1-pyhd8ed1ab_0\n",
            "  - conda-forge/noarch::anyio-4.0.0-pyhd8ed1ab_0, conda-forge/noarch::fastapi-0.103.0-pyhd8ed1ab_0done\n",
            "\n",
            "## Package Plan ##\n",
            "\n",
            "  environment location: /usr/local\n",
            "\n",
            "  added / updated specs:\n",
            "    - cudatoolkit=11.8\n",
            "    - dask-sql\n",
            "    - gcsfs\n",
            "    - llvmlite\n",
            "    - openssl\n",
            "    - python=3.10\n",
            "    - rapids=23.04\n",
            "\n",
            "\n",
            "The following NEW packages will be INSTALLED:\n",
            "\n",
            "  aiohttp            conda-forge/linux-64::aiohttp-3.8.5-py310h2372a71_0\n",
            "  aiosignal          conda-forge/noarch::aiosignal-1.3.1-pyhd8ed1ab_0\n",
            "  annotated-types    conda-forge/noarch::annotated-types-0.5.0-pyhd8ed1ab_0\n",
            "  anyio              conda-forge/noarch::anyio-3.7.1-pyhd8ed1ab_0\n",
            "  aom                conda-forge/linux-64::aom-3.5.0-h27087fc_0\n",
            "  appdirs            conda-forge/noarch::appdirs-1.4.4-pyh9f0ad1d_0\n",
            "  argon2-cffi        conda-forge/noarch::argon2-cffi-23.1.0-pyhd8ed1ab_0\n",
            "  argon2-cffi-bindi~ conda-forge/linux-64::argon2-cffi-bindings-21.2.0-py310h5764c6d_3\n",
            "  arrow              conda-forge/noarch::arrow-1.2.3-pyhd8ed1ab_0\n",
            "  arrow-cpp          conda-forge/linux-64::arrow-cpp-10.0.1-ha770c72_19_cpu\n",
            "  asttokens          conda-forge/noarch::asttokens-2.4.0-pyhd8ed1ab_0\n",
            "  async-timeout      conda-forge/noarch::async-timeout-4.0.3-pyhd8ed1ab_0\n",
            "  attrs              conda-forge/noarch::attrs-23.1.0-pyh71513ae_1\n",
            "  aws-c-auth         conda-forge/linux-64::aws-c-auth-0.6.26-h987a71b_2\n",
            "  aws-c-cal          conda-forge/linux-64::aws-c-cal-0.5.21-h48707d8_2\n",
            "  aws-c-common       conda-forge/linux-64::aws-c-common-0.8.14-h0b41bf4_0\n",
            "  aws-c-compression  conda-forge/linux-64::aws-c-compression-0.2.16-h03acc5a_5\n",
            "  aws-c-event-stream conda-forge/linux-64::aws-c-event-stream-0.2.20-h00877a2_4\n",
            "  aws-c-http         conda-forge/linux-64::aws-c-http-0.7.6-hf342b9f_0\n",
            "  aws-c-io           conda-forge/linux-64::aws-c-io-0.13.19-h5b20300_3\n",
            "  aws-c-mqtt         conda-forge/linux-64::aws-c-mqtt-0.8.6-hc4349f7_12\n",
            "  aws-c-s3           conda-forge/linux-64::aws-c-s3-0.2.7-h909e904_1\n",
            "  aws-c-sdkutils     conda-forge/linux-64::aws-c-sdkutils-0.1.9-h03acc5a_0\n",
            "  aws-checksums      conda-forge/linux-64::aws-checksums-0.1.14-h03acc5a_5\n",
            "  aws-crt-cpp        conda-forge/linux-64::aws-crt-cpp-0.19.8-hf7fbfca_12\n",
            "  aws-sdk-cpp        conda-forge/linux-64::aws-sdk-cpp-1.10.57-h17c43bd_8\n",
            "  backcall           conda-forge/noarch::backcall-0.2.0-pyh9f0ad1d_0\n",
            "  backports          conda-forge/noarch::backports-1.0-pyhd8ed1ab_3\n",
            "  backports.functoo~ conda-forge/noarch::backports.functools_lru_cache-1.6.5-pyhd8ed1ab_0\n",
            "  beautifulsoup4     conda-forge/noarch::beautifulsoup4-4.12.2-pyha770c72_0\n",
            "  bleach             conda-forge/noarch::bleach-6.0.0-pyhd8ed1ab_0\n",
            "  blinker            conda-forge/noarch::blinker-1.6.2-pyhd8ed1ab_0\n",
            "  blosc              conda-forge/linux-64::blosc-1.21.4-h0f2a231_0\n",
            "  bokeh              conda-forge/noarch::bokeh-2.4.3-pyhd8ed1ab_3\n",
            "  boltons            conda-forge/noarch::boltons-23.0.0-pyhd8ed1ab_0\n",
            "  boost-cpp          conda-forge/linux-64::boost-cpp-1.78.0-h5adbc97_2\n",
            "  branca             conda-forge/noarch::branca-0.6.0-pyhd8ed1ab_0\n",
            "  brotli             conda-forge/linux-64::brotli-1.0.9-h166bdaf_9\n",
            "  brotli-bin         conda-forge/linux-64::brotli-bin-1.0.9-h166bdaf_9\n",
            "  brunsli            conda-forge/linux-64::brunsli-0.1-h9c3ff4c_0\n",
            "  c-blosc2           conda-forge/linux-64::c-blosc2-2.10.2-hb4ffafa_0\n",
            "  cached-property    conda-forge/noarch::cached-property-1.5.2-hd8ed1ab_1\n",
            "  cached_property    conda-forge/noarch::cached_property-1.5.2-pyha770c72_1\n",
            "  cachetools         conda-forge/noarch::cachetools-5.3.1-pyhd8ed1ab_0\n",
            "  cairo              conda-forge/linux-64::cairo-1.16.0-ha61ee94_1014\n",
            "  cfitsio            conda-forge/linux-64::cfitsio-4.2.0-hd9d235c_0\n",
            "  charls             conda-forge/linux-64::charls-2.4.2-h59595ed_0\n",
            "  click              conda-forge/noarch::click-8.1.7-unix_pyh707e725_0\n",
            "  click-plugins      conda-forge/noarch::click-plugins-1.1.1-py_0\n",
            "  cligj              conda-forge/noarch::cligj-0.7.2-pyhd8ed1ab_1\n",
            "  cloudpickle        conda-forge/noarch::cloudpickle-2.2.1-pyhd8ed1ab_0\n",
            "  colorcet           conda-forge/noarch::colorcet-3.0.1-pyhd8ed1ab_0\n",
            "  comm               conda-forge/noarch::comm-0.1.4-pyhd8ed1ab_0\n",
            "  contourpy          conda-forge/linux-64::contourpy-1.1.0-py310hd41b1e2_0\n",
            "  cubinlinker        rapidsai/linux-64::cubinlinker-0.3.0-py310hfdf336d_0\n",
            "  cucim              rapidsai/linux-64::cucim-23.04.01-cuda_11_py310_230413_g4e2346c_0\n",
            "  cuda-cudart        nvidia/linux-64::cuda-cudart-12.2.140-0\n",
            "  cuda-nvrtc         nvidia/linux-64::cuda-nvrtc-12.2.140-0\n",
            "  cuda-profiler-api  nvidia/linux-64::cuda-profiler-api-11.8.86-0\n",
            "  cuda-python        nvidia/linux-64::cuda-python-11.8.2-py310h3fd9d12_0\n",
            "  cuda-version       conda-forge/noarch::cuda-version-11.8-h70ddcb2_2\n",
            "  cudatoolkit        conda-forge/linux-64::cudatoolkit-11.8.0-h4ba93d1_12\n",
            "  cudf               rapidsai/linux-64::cudf-23.04.01-cuda_11_py310_230421_g7e070fce16_0\n",
            "  cudf_kafka         rapidsai/linux-64::cudf_kafka-23.04.01-py310_230421_g7e070fce16_0\n",
            "  cugraph            rapidsai/linux-64::cugraph-23.04.01-cuda11_py310_230421_g73f4327a_0\n",
            "  cuml               rapidsai/linux-64::cuml-23.04.01-cuda11_py310_230421_g958186d07_0\n",
            "  cupy               conda-forge/linux-64::cupy-11.6.0-py310h9216885_0\n",
            "  curl               conda-forge/linux-64::curl-7.88.1-hdc1c0ab_1\n",
            "  cusignal           rapidsai/noarch::cusignal-23.04.00-py38_230412_g7dd2c99_0\n",
            "  cuspatial          rapidsai/linux-64::cuspatial-23.04.00-py310_230412_g6958dcb2_0\n",
            "  custreamz          rapidsai/linux-64::custreamz-23.04.01-py310_230421_g7e070fce16_0\n",
            "  cuxfilter          rapidsai/linux-64::cuxfilter-23.04.00-py310_230412_gfd7f336_0\n",
            "  cycler             conda-forge/noarch::cycler-0.11.0-pyhd8ed1ab_0\n",
            "  cyrus-sasl         conda-forge/linux-64::cyrus-sasl-2.1.27-h9033bb2_6\n",
            "  cytoolz            conda-forge/linux-64::cytoolz-0.12.2-py310h2372a71_0\n",
            "  dask               conda-forge/noarch::dask-2023.3.2-pyhd8ed1ab_0\n",
            "  dask-core          conda-forge/noarch::dask-core-2023.3.2-pyhd8ed1ab_0\n",
            "  dask-cuda          rapidsai/linux-64::dask-cuda-23.04.00-py310_230412_gd4d6a02_0\n",
            "  dask-cudf          rapidsai/linux-64::dask-cudf-23.04.01-cuda_11_py310_230421_g7e070fce16_0\n",
            "  dask-sql           conda-forge/linux-64::dask-sql-2023.8.0-py310hb31e3d0_2\n",
            "  datashader         conda-forge/noarch::datashader-0.14.4-pyh1a96a4e_0\n",
            "  datashape          conda-forge/noarch::datashape-0.5.4-py_1\n",
            "  dav1d              conda-forge/linux-64::dav1d-1.2.1-hd590300_0\n",
            "  debugpy            conda-forge/linux-64::debugpy-1.6.8-py310hc6cd4ac_0\n",
            "  decorator          conda-forge/noarch::decorator-5.1.1-pyhd8ed1ab_0\n",
            "  defusedxml         conda-forge/noarch::defusedxml-0.7.1-pyhd8ed1ab_0\n",
            "  distributed        conda-forge/noarch::distributed-2023.3.2.1-pyhd8ed1ab_0\n",
            "  dlpack             conda-forge/linux-64::dlpack-0.5-h9c3ff4c_0\n",
            "  entrypoints        conda-forge/noarch::entrypoints-0.4-pyhd8ed1ab_0\n",
            "  exceptiongroup     conda-forge/noarch::exceptiongroup-1.1.3-pyhd8ed1ab_0\n",
            "  executing          conda-forge/noarch::executing-1.2.0-pyhd8ed1ab_0\n",
            "  expat              conda-forge/linux-64::expat-2.5.0-hcb278e6_1\n",
            "  fastapi            conda-forge/noarch::fastapi-0.103.1-pyhd8ed1ab_0\n",
            "  fastavro           conda-forge/linux-64::fastavro-1.8.2-py310h2372a71_0\n",
            "  fastrlock          conda-forge/linux-64::fastrlock-0.8.2-py310hc6cd4ac_0\n",
            "  fiona              conda-forge/linux-64::fiona-1.9.1-py310ha325b7b_0\n",
            "  folium             conda-forge/noarch::folium-0.14.0-pyhd8ed1ab_0\n",
            "  font-ttf-dejavu-s~ conda-forge/noarch::font-ttf-dejavu-sans-mono-2.37-hab24e00_0\n",
            "  font-ttf-inconsol~ conda-forge/noarch::font-ttf-inconsolata-3.000-h77eed37_0\n",
            "  font-ttf-source-c~ conda-forge/noarch::font-ttf-source-code-pro-2.038-h77eed37_0\n",
            "  font-ttf-ubuntu    conda-forge/noarch::font-ttf-ubuntu-0.83-hab24e00_0\n",
            "  fontconfig         conda-forge/linux-64::fontconfig-2.14.2-h14ed4e7_0\n",
            "  fonts-conda-ecosy~ conda-forge/noarch::fonts-conda-ecosystem-1-0\n",
            "  fonts-conda-forge  conda-forge/noarch::fonts-conda-forge-1-0\n",
            "  fonttools          conda-forge/linux-64::fonttools-4.42.1-py310h2372a71_0\n",
            "  fqdn               conda-forge/noarch::fqdn-1.5.1-pyhd8ed1ab_0\n",
            "  freetype           conda-forge/linux-64::freetype-2.12.1-hca18f0e_1\n",
            "  freexl             conda-forge/linux-64::freexl-1.0.6-h166bdaf_1\n",
            "  frozenlist         conda-forge/linux-64::frozenlist-1.4.0-py310h2372a71_0\n",
            "  fsspec             conda-forge/noarch::fsspec-2023.9.0-pyh1a96a4e_0\n",
            "  gcsfs              conda-forge/noarch::gcsfs-2023.9.0-pyhd8ed1ab_0\n",
            "  gdal               conda-forge/linux-64::gdal-3.6.2-py310hc1b7723_3\n",
            "  geopandas          conda-forge/noarch::geopandas-0.13.2-pyhd8ed1ab_1\n",
            "  geopandas-base     conda-forge/noarch::geopandas-base-0.13.2-pyha770c72_1\n",
            "  geos               conda-forge/linux-64::geos-3.11.1-h27087fc_0\n",
            "  geotiff            conda-forge/linux-64::geotiff-1.7.1-h7157cca_5\n",
            "  gettext            conda-forge/linux-64::gettext-0.21.1-h27087fc_0\n",
            "  gflags             conda-forge/linux-64::gflags-2.2.2-he1b5a44_1004\n",
            "  giflib             conda-forge/linux-64::giflib-5.2.1-h0b41bf4_3\n",
            "  glog               conda-forge/linux-64::glog-0.6.0-h6f12383_0\n",
            "  gmock              conda-forge/linux-64::gmock-1.10.0-h4bd325d_7\n",
            "  google-api-core    conda-forge/noarch::google-api-core-2.11.1-pyhd8ed1ab_0\n",
            "  google-auth        conda-forge/noarch::google-auth-2.22.0-pyh1a96a4e_0\n",
            "  google-auth-oauth~ conda-forge/noarch::google-auth-oauthlib-1.0.0-pyhd8ed1ab_1\n",
            "  google-cloud-core  conda-forge/noarch::google-cloud-core-2.3.3-pyhd8ed1ab_0\n",
            "  google-cloud-stor~ conda-forge/noarch::google-cloud-storage-2.10.0-pyh1a96a4e_0\n",
            "  google-crc32c      conda-forge/linux-64::google-crc32c-1.1.2-py310he8fe98e_4\n",
            "  google-resumable-~ conda-forge/noarch::google-resumable-media-2.6.0-pyhd8ed1ab_0\n",
            "  googleapis-common~ conda-forge/noarch::googleapis-common-protos-1.60.0-pyhd8ed1ab_0\n",
            "  grpcio             conda-forge/linux-64::grpcio-1.52.1-py310heca2aa9_1\n",
            "  gtest              conda-forge/linux-64::gtest-1.10.0-h4bd325d_7\n",
            "  h11                conda-forge/noarch::h11-0.14.0-pyhd8ed1ab_0\n",
            "  h2                 conda-forge/noarch::h2-4.1.0-pyhd8ed1ab_0\n",
            "  hdf4               conda-forge/linux-64::hdf4-4.2.15-h9772cbc_5\n",
            "  hdf5               conda-forge/linux-64::hdf5-1.12.2-nompi_h4df4325_101\n",
            "  holoviews          conda-forge/noarch::holoviews-1.15.4-pyhd8ed1ab_0\n",
            "  hpack              conda-forge/noarch::hpack-4.0.0-pyh9f0ad1d_0\n",
            "  httpcore           conda-forge/noarch::httpcore-0.17.3-pyhd8ed1ab_0\n",
            "  httpx              conda-forge/noarch::httpx-0.24.1-pyhd8ed1ab_0\n",
            "  hyperframe         conda-forge/noarch::hyperframe-6.0.1-pyhd8ed1ab_0\n",
            "  imagecodecs        conda-forge/linux-64::imagecodecs-2023.1.23-py310ha3ed6a1_0\n",
            "  imageio            conda-forge/noarch::imageio-2.31.1-pyh24c5eb1_0\n",
            "  importlib-metadata conda-forge/noarch::importlib-metadata-6.8.0-pyha770c72_0\n",
            "  importlib_metadata conda-forge/noarch::importlib_metadata-6.8.0-hd8ed1ab_0\n",
            "  importlib_resourc~ conda-forge/noarch::importlib_resources-6.0.1-pyhd8ed1ab_0\n",
            "  ipykernel          conda-forge/noarch::ipykernel-6.25.2-pyh2140261_0\n",
            "  ipython            conda-forge/noarch::ipython-8.15.0-pyh0d859eb_0\n",
            "  ipywidgets         conda-forge/noarch::ipywidgets-8.1.0-pyhd8ed1ab_0\n",
            "  isoduration        conda-forge/noarch::isoduration-20.11.0-pyhd8ed1ab_0\n",
            "  jbig               conda-forge/linux-64::jbig-2.1-h7f98852_2003\n",
            "  jedi               conda-forge/noarch::jedi-0.19.0-pyhd8ed1ab_0\n",
            "  jinja2             conda-forge/noarch::jinja2-3.1.2-pyhd8ed1ab_1\n",
            "  joblib             conda-forge/noarch::joblib-1.3.2-pyhd8ed1ab_0\n",
            "  jpeg               conda-forge/linux-64::jpeg-9e-h0b41bf4_3\n",
            "  json-c             conda-forge/linux-64::json-c-0.16-hc379101_0\n",
            "  jsonpatch          conda-forge/noarch::jsonpatch-1.32-pyhd8ed1ab_0\n",
            "  jsonpointer        conda-forge/noarch::jsonpointer-2.0-py_0\n",
            "  jsonschema         conda-forge/noarch::jsonschema-4.19.0-pyhd8ed1ab_1\n",
            "  jsonschema-specif~ conda-forge/noarch::jsonschema-specifications-2023.7.1-pyhd8ed1ab_0\n",
            "  jsonschema-with-f~ conda-forge/noarch::jsonschema-with-format-nongpl-4.19.0-pyhd8ed1ab_1\n",
            "  jupyter-server-pr~ conda-forge/noarch::jupyter-server-proxy-4.0.0-pyhd8ed1ab_0\n",
            "  jupyter_client     conda-forge/noarch::jupyter_client-8.3.1-pyhd8ed1ab_0\n",
            "  jupyter_core       conda-forge/linux-64::jupyter_core-5.3.1-py310hff52083_0\n",
            "  jupyter_events     conda-forge/noarch::jupyter_events-0.7.0-pyhd8ed1ab_2\n",
            "  jupyter_server     conda-forge/noarch::jupyter_server-2.7.3-pyhd8ed1ab_0\n",
            "  jupyter_server_te~ conda-forge/noarch::jupyter_server_terminals-0.4.4-pyhd8ed1ab_1\n",
            "  jupyterlab_pygmen~ conda-forge/noarch::jupyterlab_pygments-0.2.2-pyhd8ed1ab_0\n",
            "  jupyterlab_widgets conda-forge/noarch::jupyterlab_widgets-3.0.8-pyhd8ed1ab_0\n",
            "  jxrlib             conda-forge/linux-64::jxrlib-1.1-h7f98852_2\n",
            "  kealib             conda-forge/linux-64::kealib-1.5.0-ha7026e8_0\n",
            "  kiwisolver         conda-forge/linux-64::kiwisolver-1.4.5-py310hd41b1e2_0\n",
            "  lazy_loader        conda-forge/noarch::lazy_loader-0.3-pyhd8ed1ab_0\n",
            "  lcms2              conda-forge/linux-64::lcms2-2.15-hfd0df8a_0\n",
            "  lerc               conda-forge/linux-64::lerc-4.0.0-h27087fc_0\n",
            "  libabseil          conda-forge/linux-64::libabseil-20230125.0-cxx17_hcb278e6_1\n",
            "  libaec             conda-forge/linux-64::libaec-1.0.6-hcb278e6_1\n",
            "  libarrow           conda-forge/linux-64::libarrow-10.0.1-h93537a5_19_cpu\n",
            "  libavif            conda-forge/linux-64::libavif-0.11.1-h8182462_2\n",
            "  libblas            conda-forge/linux-64::libblas-3.9.0-18_linux64_openblas\n",
            "  libbrotlicommon    conda-forge/linux-64::libbrotlicommon-1.0.9-h166bdaf_9\n",
            "  libbrotlidec       conda-forge/linux-64::libbrotlidec-1.0.9-h166bdaf_9\n",
            "  libbrotlienc       conda-forge/linux-64::libbrotlienc-1.0.9-h166bdaf_9\n",
            "  libcblas           conda-forge/linux-64::libcblas-3.9.0-18_linux64_openblas\n",
            "  libcrc32c          conda-forge/linux-64::libcrc32c-1.1.2-h9c3ff4c_0\n",
            "  libcublas          nvidia/linux-64::libcublas-11.11.3.6-0\n",
            "  libcublas-dev      nvidia/linux-64::libcublas-dev-11.11.3.6-0\n",
            "  libcucim           rapidsai/linux-64::libcucim-23.04.01-cuda11_230413_g4e2346c_0\n",
            "  libcudf            rapidsai/linux-64::libcudf-23.04.01-cuda11_230421_g7e070fce16_0\n",
            "  libcudf_kafka      rapidsai/linux-64::libcudf_kafka-23.04.01-230421_g7e070fce16_0\n",
            "  libcufft           nvidia/linux-64::libcufft-10.9.0.58-0\n",
            "  libcugraph         rapidsai/linux-64::libcugraph-23.04.01-cuda11_230421_g73f4327a_0\n",
            "  libcugraph_etl     rapidsai/linux-64::libcugraph_etl-23.04.01-cuda11_230421_g73f4327a_0\n",
            "  libcugraphops      nvidia/linux-64::libcugraphops-23.04.00-cuda11_230412_ga76892e3_0\n",
            "  libcuml            rapidsai/linux-64::libcuml-23.04.01-cuda11_230421_g958186d07_0\n",
            "  libcumlprims       nvidia/linux-64::libcumlprims-23.04.00-cuda11_230412_g7502d8e_0\n",
            "  libcurand          nvidia/linux-64::libcurand-10.3.0.86-0\n",
            "  libcurand-dev      nvidia/linux-64::libcurand-dev-10.3.0.86-0\n",
            "  libcusolver        nvidia/linux-64::libcusolver-11.4.1.48-0\n",
            "  libcusolver-dev    nvidia/linux-64::libcusolver-dev-11.4.1.48-0\n",
            "  libcusparse        nvidia/linux-64::libcusparse-11.7.5.86-0\n",
            "  libcusparse-dev    nvidia/linux-64::libcusparse-dev-11.7.5.86-0\n",
            "  libcuspatial       rapidsai/linux-64::libcuspatial-23.04.00-cuda11_230412_g6958dcb2_0\n",
            "  libdeflate         conda-forge/linux-64::libdeflate-1.17-h0b41bf4_0\n",
            "  libevent           conda-forge/linux-64::libevent-2.1.12-hf998b51_1\n",
            "  libexpat           conda-forge/linux-64::libexpat-2.5.0-hcb278e6_1\n",
            "  libgcrypt          conda-forge/linux-64::libgcrypt-1.10.1-h166bdaf_0\n",
            "  libgdal            conda-forge/linux-64::libgdal-3.6.2-h10cbb15_3\n",
            "  libgfortran-ng     conda-forge/linux-64::libgfortran-ng-13.1.0-h69a702a_0\n",
            "  libgfortran5       conda-forge/linux-64::libgfortran5-13.1.0-h15d22d2_0\n",
            "  libglib            conda-forge/linux-64::libglib-2.76.4-hebfc3b9_0\n",
            "  libgoogle-cloud    conda-forge/linux-64::libgoogle-cloud-2.8.0-h0bc5f78_1\n",
            "  libgpg-error       conda-forge/linux-64::libgpg-error-1.47-h71f35ed_0\n",
            "  libgrpc            conda-forge/linux-64::libgrpc-1.52.1-hcf146ea_1\n",
            "  libgsasl           conda-forge/linux-64::libgsasl-1.8.0-2\n",
            "  libkml             conda-forge/linux-64::libkml-1.3.0-h37653c0_1015\n",
            "  liblapack          conda-forge/linux-64::liblapack-3.9.0-18_linux64_openblas\n",
            "  libllvm11          conda-forge/linux-64::libllvm11-11.1.0-he0ac6c6_5\n",
            "  libnetcdf          conda-forge/linux-64::libnetcdf-4.8.1-nompi_h261ec11_106\n",
            "  libntlm            conda-forge/linux-64::libntlm-1.4-h7f98852_1002\n",
            "  libnuma            conda-forge/linux-64::libnuma-2.0.16-h0b41bf4_1\n",
            "  libopenblas        conda-forge/linux-64::libopenblas-0.3.24-pthreads_h413a1c8_0\n",
            "  libpng             conda-forge/linux-64::libpng-1.6.39-h753d276_0\n",
            "  libpq              conda-forge/linux-64::libpq-15.2-hb675445_0\n",
            "  libprotobuf        conda-forge/linux-64::libprotobuf-3.21.12-hfc55251_2\n",
            "  libraft            rapidsai/linux-64::libraft-23.04.01-cuda11_230421_gdc800d6f_0\n",
            "  libraft-headers    rapidsai/linux-64::libraft-headers-23.04.01-cuda11_230421_gdc800d6f_0\n",
            "  librdkafka         conda-forge/linux-64::librdkafka-1.7.0-hb1989a6_1\n",
            "  librmm             rapidsai/linux-64::librmm-23.04.01-cuda11_230421_geab50f46_0\n",
            "  librttopo          conda-forge/linux-64::librttopo-1.1.0-ha49c73b_12\n",
            "  libsodium          conda-forge/linux-64::libsodium-1.0.18-h36c2ea0_1\n",
            "  libspatialindex    conda-forge/linux-64::libspatialindex-1.9.3-h9c3ff4c_4\n",
            "  libspatialite      conda-forge/linux-64::libspatialite-5.0.1-h7c8129e_22\n",
            "  libthrift          conda-forge/linux-64::libthrift-0.18.1-h8fd135c_2\n",
            "  libtiff            conda-forge/linux-64::libtiff-4.5.0-h6adf6a1_2\n",
            "  libutf8proc        conda-forge/linux-64::libutf8proc-2.8.0-h166bdaf_0\n",
            "  libuv              conda-forge/linux-64::libuv-1.44.2-hd590300_1\n",
            "  libwebp            conda-forge/linux-64::libwebp-1.2.4-h1daa5a0_1\n",
            "  libwebp-base       conda-forge/linux-64::libwebp-base-1.2.4-h166bdaf_0\n",
            "  libxcb             conda-forge/linux-64::libxcb-1.13-h7f98852_1004\n",
            "  libxgboost         rapidsai/linux-64::libxgboost-1.7.5dev.rapidsai23.04-cuda_11_0\n",
            "  libzip             conda-forge/linux-64::libzip-1.10.1-h2629f0a_2\n",
            "  libzopfli          conda-forge/linux-64::libzopfli-1.0.3-h9c3ff4c_0\n",
            "  llvmlite           conda-forge/linux-64::llvmlite-0.39.1-py310h58363a5_1\n",
            "  locket             conda-forge/noarch::locket-1.0.0-pyhd8ed1ab_0\n",
            "  lz4                conda-forge/linux-64::lz4-4.3.2-py310h0cfdcf0_0\n",
            "  mapclassify        conda-forge/noarch::mapclassify-2.5.0-pyhd8ed1ab_1\n",
            "  markdown           conda-forge/noarch::markdown-3.4.4-pyhd8ed1ab_0\n",
            "  markupsafe         conda-forge/linux-64::markupsafe-2.1.3-py310h2372a71_0\n",
            "  matplotlib-base    conda-forge/linux-64::matplotlib-base-3.7.1-py310he60537e_0\n",
            "  matplotlib-inline  conda-forge/noarch::matplotlib-inline-0.1.6-pyhd8ed1ab_0\n",
            "  mistune            conda-forge/noarch::mistune-3.0.1-pyhd8ed1ab_0\n",
            "  msgpack-python     conda-forge/linux-64::msgpack-python-1.0.5-py310hdf3cbec_0\n",
            "  multidict          conda-forge/linux-64::multidict-6.0.4-py310h1fa729e_0\n",
            "  multipledispatch   conda-forge/noarch::multipledispatch-0.6.0-py_0\n",
            "  munch              conda-forge/noarch::munch-4.0.0-pyhd8ed1ab_0\n",
            "  munkres            conda-forge/noarch::munkres-1.1.4-pyh9f0ad1d_0\n",
            "  nbclient           conda-forge/noarch::nbclient-0.8.0-pyhd8ed1ab_0\n",
            "  nbconvert-core     conda-forge/noarch::nbconvert-core-7.8.0-pyhd8ed1ab_0\n",
            "  nbformat           conda-forge/noarch::nbformat-5.9.2-pyhd8ed1ab_0\n",
            "  nccl               conda-forge/linux-64::nccl-2.18.5.1-h6103f9b_1\n",
            "  nest-asyncio       conda-forge/noarch::nest-asyncio-1.5.6-pyhd8ed1ab_0\n",
            "  networkx           conda-forge/noarch::networkx-3.1-pyhd8ed1ab_0\n",
            "  nodejs             conda-forge/linux-64::nodejs-18.15.0-h8d033a5_0\n",
            "  nspr               conda-forge/linux-64::nspr-4.35-h27087fc_0\n",
            "  nss                conda-forge/linux-64::nss-3.89-he45b914_0\n",
            "  numba              conda-forge/linux-64::numba-0.56.4-py310h0e39c9b_1\n",
            "  numpy              conda-forge/linux-64::numpy-1.23.5-py310h53a5b5f_0\n",
            "  nvtx               conda-forge/linux-64::nvtx-0.2.5-py310h1fa729e_0\n",
            "  oauthlib           conda-forge/noarch::oauthlib-3.2.2-pyhd8ed1ab_0\n",
            "  openjpeg           conda-forge/linux-64::openjpeg-2.5.0-hfec8fc6_2\n",
            "  orc                conda-forge/linux-64::orc-1.8.3-h2f23424_1\n",
            "  overrides          conda-forge/noarch::overrides-7.4.0-pyhd8ed1ab_0\n",
            "  packaging          conda-forge/noarch::packaging-23.1-pyhd8ed1ab_0\n",
            "  pandas             conda-forge/linux-64::pandas-1.5.3-py310h9b08913_1\n",
            "  pandocfilters      conda-forge/noarch::pandocfilters-1.5.0-pyhd8ed1ab_0\n",
            "  panel              conda-forge/noarch::panel-0.14.1-pyhd8ed1ab_0\n",
            "  param              conda-forge/noarch::param-1.13.0-pyh1a96a4e_0\n",
            "  parquet-cpp        conda-forge/noarch::parquet-cpp-1.5.1-2\n",
            "  parso              conda-forge/noarch::parso-0.8.3-pyhd8ed1ab_0\n",
            "  partd              conda-forge/noarch::partd-1.4.0-pyhd8ed1ab_0\n",
            "  patsy              conda-forge/noarch::patsy-0.5.3-pyhd8ed1ab_0\n",
            "  pcre2              conda-forge/linux-64::pcre2-10.40-hc3806b6_0\n",
            "  pexpect            conda-forge/noarch::pexpect-4.8.0-pyh1a96a4e_2\n",
            "  pickleshare        conda-forge/noarch::pickleshare-0.7.5-py_1003\n",
            "  pillow             conda-forge/linux-64::pillow-9.4.0-py310h023d228_1\n",
            "  pixman             conda-forge/linux-64::pixman-0.40.0-h36c2ea0_0\n",
            "  pkgutil-resolve-n~ conda-forge/noarch::pkgutil-resolve-name-1.3.10-pyhd8ed1ab_0\n",
            "  platformdirs       conda-forge/noarch::platformdirs-3.10.0-pyhd8ed1ab_0\n",
            "  pooch              conda-forge/noarch::pooch-1.7.0-pyha770c72_3\n",
            "  poppler            conda-forge/linux-64::poppler-22.12.0-h091648b_1\n",
            "  poppler-data       conda-forge/noarch::poppler-data-0.4.12-hd8ed1ab_0\n",
            "  postgresql         conda-forge/linux-64::postgresql-15.2-h3248436_0\n",
            "  proj               conda-forge/linux-64::proj-9.1.0-h8ffa02c_1\n",
            "  prometheus_client  conda-forge/noarch::prometheus_client-0.17.1-pyhd8ed1ab_0\n",
            "  prompt-toolkit     conda-forge/noarch::prompt-toolkit-3.0.39-pyha770c72_0\n",
            "  prompt_toolkit     conda-forge/noarch::prompt_toolkit-3.0.39-hd8ed1ab_0\n",
            "  protobuf           conda-forge/linux-64::protobuf-4.21.12-py310heca2aa9_0\n",
            "  psutil             conda-forge/linux-64::psutil-5.9.5-py310h1fa729e_0\n",
            "  pthread-stubs      conda-forge/linux-64::pthread-stubs-0.4-h36c2ea0_1001\n",
            "  ptxcompiler        conda-forge/linux-64::ptxcompiler-0.8.1-py310h01a121a_0\n",
            "  ptyprocess         conda-forge/noarch::ptyprocess-0.7.0-pyhd3deb0d_0\n",
            "  pure_eval          conda-forge/noarch::pure_eval-0.2.2-pyhd8ed1ab_0\n",
            "  py-xgboost         rapidsai/linux-64::py-xgboost-1.7.5dev.rapidsai23.04-cuda_11_py310_0\n",
            "  pyarrow            conda-forge/linux-64::pyarrow-10.0.1-py310h633f555_19_cpu\n",
            "  pyasn1             conda-forge/noarch::pyasn1-0.4.8-py_0\n",
            "  pyasn1-modules     conda-forge/noarch::pyasn1-modules-0.2.7-py_0\n",
            "  pyct               conda-forge/noarch::pyct-0.4.6-py_0\n",
            "  pyct-core          conda-forge/noarch::pyct-core-0.4.6-py_0\n",
            "  pydantic           conda-forge/noarch::pydantic-2.3.0-pyhd8ed1ab_0\n",
            "  pydantic-core      conda-forge/linux-64::pydantic-core-2.6.3-py310hcb5633a_0\n",
            "  pydeck             conda-forge/noarch::pydeck-0.5.0-pyh9f0ad1d_0\n",
            "  pyee               conda-forge/noarch::pyee-8.1.0-pyhd8ed1ab_0\n",
            "  pygments           conda-forge/noarch::pygments-2.16.1-pyhd8ed1ab_0\n",
            "  pyjwt              conda-forge/noarch::pyjwt-2.8.0-pyhd8ed1ab_0\n",
            "  pylibcugraph       rapidsai/linux-64::pylibcugraph-23.04.01-cuda11_py310_230421_g73f4327a_0\n",
            "  pylibraft          rapidsai/linux-64::pylibraft-23.04.01-cuda11_py310_230421_gdc800d6f_0\n",
            "  pynvml             conda-forge/noarch::pynvml-11.4.1-pyhd8ed1ab_0\n",
            "  pyparsing          conda-forge/noarch::pyparsing-3.1.1-pyhd8ed1ab_0\n",
            "  pyppeteer          conda-forge/noarch::pyppeteer-1.0.2-pyhd8ed1ab_0\n",
            "  pyproj             conda-forge/linux-64::pyproj-3.4.0-py310hb1338dc_2\n",
            "  python-confluent-~ conda-forge/linux-64::python-confluent-kafka-1.7.0-py310h6acc77f_2\n",
            "  python-dateutil    conda-forge/noarch::python-dateutil-2.8.2-pyhd8ed1ab_0\n",
            "  python-fastjsonsc~ conda-forge/noarch::python-fastjsonschema-2.18.0-pyhd8ed1ab_0\n",
            "  python-json-logger conda-forge/noarch::python-json-logger-2.0.7-pyhd8ed1ab_0\n",
            "  pytz               conda-forge/noarch::pytz-2023.3.post1-pyhd8ed1ab_0\n",
            "  pyu2f              conda-forge/noarch::pyu2f-0.1.5-pyhd8ed1ab_0\n",
            "  pyviz_comms        conda-forge/noarch::pyviz_comms-3.0.0-pyhd8ed1ab_0\n",
            "  pywavelets         conda-forge/linux-64::pywavelets-1.4.1-py310h0a54255_0\n",
            "  pyyaml             conda-forge/linux-64::pyyaml-6.0.1-py310h2372a71_0\n",
            "  pyzmq              conda-forge/linux-64::pyzmq-25.1.1-py310h5bbb5d0_0\n",
            "  raft-dask          rapidsai/linux-64::raft-dask-23.04.01-cuda11_py310_230421_gdc800d6f_0\n",
            "  rapids             rapidsai/linux-64::rapids-23.04.01-cuda11_py310_230420_g5663f20_129\n",
            "  rapids-xgboost     rapidsai/linux-64::rapids-xgboost-23.04.01-cuda11_py310_230420_g5663f20_129\n",
            "  rdma-core          conda-forge/linux-64::rdma-core-28.9-h59595ed_1\n",
            "  re2                conda-forge/linux-64::re2-2023.02.02-hcb278e6_0\n",
            "  referencing        conda-forge/noarch::referencing-0.30.2-pyhd8ed1ab_0\n",
            "  requests-oauthlib  conda-forge/noarch::requests-oauthlib-1.3.1-pyhd8ed1ab_0\n",
            "  rfc3339-validator  conda-forge/noarch::rfc3339-validator-0.1.4-pyhd8ed1ab_0\n",
            "  rfc3986-validator  conda-forge/noarch::rfc3986-validator-0.1.1-pyh9f0ad1d_0\n",
            "  rmm                rapidsai/linux-64::rmm-23.04.01-cuda11_py310_230421_geab50f46_0\n",
            "  rpds-py            conda-forge/linux-64::rpds-py-0.10.2-py310hcb5633a_0\n",
            "  rsa                conda-forge/noarch::rsa-4.9-pyhd8ed1ab_0\n",
            "  rtree              conda-forge/linux-64::rtree-1.0.1-py310hbdcdc62_2\n",
            "  s2n                conda-forge/linux-64::s2n-1.3.41-h3358134_0\n",
            "  scikit-image       conda-forge/linux-64::scikit-image-0.20.0-py310h9b08913_1\n",
            "  scikit-learn       conda-forge/linux-64::scikit-learn-1.3.0-py310hf7d194e_0\n",
            "  scipy              conda-forge/linux-64::scipy-1.11.2-py310ha4c1d20_0\n",
            "  seaborn            conda-forge/noarch::seaborn-0.12.2-hd8ed1ab_0\n",
            "  seaborn-base       conda-forge/noarch::seaborn-base-0.12.2-pyhd8ed1ab_0\n",
            "  send2trash         conda-forge/noarch::send2trash-1.8.2-pyh41d4057_0\n",
            "  shapely            conda-forge/linux-64::shapely-2.0.1-py310h8b84c32_0\n",
            "  simpervisor        conda-forge/noarch::simpervisor-1.0.0-pyhd8ed1ab_0\n",
            "  six                conda-forge/noarch::six-1.16.0-pyh6c4a22f_0\n",
            "  snappy             conda-forge/linux-64::snappy-1.1.10-h9fff704_0\n",
            "  sniffio            conda-forge/noarch::sniffio-1.3.0-pyhd8ed1ab_0\n",
            "  sortedcontainers   conda-forge/noarch::sortedcontainers-2.4.0-pyhd8ed1ab_0\n",
            "  soupsieve          conda-forge/noarch::soupsieve-2.5-pyhd8ed1ab_1\n",
            "  spdlog             conda-forge/linux-64::spdlog-1.11.0-h9b3ece8_1\n",
            "  sqlite             conda-forge/linux-64::sqlite-3.40.0-h4ff8645_0\n",
            "  stack_data         conda-forge/noarch::stack_data-0.6.2-pyhd8ed1ab_0\n",
            "  starlette          conda-forge/noarch::starlette-0.27.0-pyhd8ed1ab_0\n",
            "  statsmodels        conda-forge/linux-64::statsmodels-0.14.0-py310h278f3c1_1\n",
            "  streamz            conda-forge/noarch::streamz-0.6.4-pyh6c4a22f_0\n",
            "  tabulate           conda-forge/noarch::tabulate-0.9.0-pyhd8ed1ab_1\n",
            "  tblib              conda-forge/noarch::tblib-1.7.0-pyhd8ed1ab_0\n",
            "  terminado          conda-forge/noarch::terminado-0.17.1-pyh41d4057_0\n",
            "  threadpoolctl      conda-forge/noarch::threadpoolctl-3.2.0-pyha21a80b_0\n",
            "  tifffile           conda-forge/noarch::tifffile-2023.8.12-pyhd8ed1ab_0\n",
            "  tiledb             conda-forge/linux-64::tiledb-2.13.2-hd532e3d_0\n",
            "  tinycss2           conda-forge/noarch::tinycss2-1.2.1-pyhd8ed1ab_0\n",
            "  tornado            conda-forge/linux-64::tornado-6.3.3-py310h2372a71_0\n",
            "  traitlets          conda-forge/noarch::traitlets-5.9.0-pyhd8ed1ab_0\n",
            "  treelite           conda-forge/linux-64::treelite-3.2.0-py310h1be96d9_0\n",
            "  typing-extensions  conda-forge/noarch::typing-extensions-4.7.1-hd8ed1ab_0\n",
            "  typing_extensions  conda-forge/noarch::typing_extensions-4.7.1-pyha770c72_0\n",
            "  typing_utils       conda-forge/noarch::typing_utils-0.1.0-pyhd8ed1ab_0\n",
            "  tzcode             conda-forge/linux-64::tzcode-2023c-h0b41bf4_0\n",
            "  tzlocal            conda-forge/linux-64::tzlocal-5.0.1-py310hff52083_0\n",
            "  ucx                conda-forge/linux-64::ucx-1.14.1-h64cca9d_3\n",
            "  ucx-proc           rapidsai/linux-64::ucx-proc-1.0.0-gpu\n",
            "  ucx-py             rapidsai/linux-64::ucx-py-0.31.01-py310_230421_g1e2fec4_0\n",
            "  unicodedata2       conda-forge/linux-64::unicodedata2-15.0.0-py310h5764c6d_0\n",
            "  uri-template       conda-forge/noarch::uri-template-1.3.0-pyhd8ed1ab_0\n",
            "  uvicorn            conda-forge/linux-64::uvicorn-0.23.2-py310hff52083_0\n",
            "  wcwidth            conda-forge/noarch::wcwidth-0.2.6-pyhd8ed1ab_0\n",
            "  webcolors          conda-forge/noarch::webcolors-1.13-pyhd8ed1ab_0\n",
            "  webencodings       conda-forge/noarch::webencodings-0.5.1-py_1\n",
            "  websocket-client   conda-forge/noarch::websocket-client-1.6.2-pyhd8ed1ab_0\n",
            "  websockets         conda-forge/linux-64::websockets-10.4-py310h5764c6d_1\n",
            "  widgetsnbextension conda-forge/noarch::widgetsnbextension-4.0.8-pyhd8ed1ab_0\n",
            "  xarray             conda-forge/noarch::xarray-2023.8.0-pyhd8ed1ab_0\n",
            "  xerces-c           conda-forge/linux-64::xerces-c-3.2.4-h55805fa_1\n",
            "  xgboost            rapidsai/linux-64::xgboost-1.7.5dev.rapidsai23.04-cuda_11_py310_0\n",
            "  xorg-kbproto       conda-forge/linux-64::xorg-kbproto-1.0.7-h7f98852_1002\n",
            "  xorg-libice        conda-forge/linux-64::xorg-libice-1.1.1-hd590300_0\n",
            "  xorg-libsm         conda-forge/linux-64::xorg-libsm-1.2.4-h7391055_0\n",
            "  xorg-libx11        conda-forge/linux-64::xorg-libx11-1.8.4-h0b41bf4_0\n",
            "  xorg-libxau        conda-forge/linux-64::xorg-libxau-1.0.11-hd590300_0\n",
            "  xorg-libxdmcp      conda-forge/linux-64::xorg-libxdmcp-1.1.3-h7f98852_0\n",
            "  xorg-libxext       conda-forge/linux-64::xorg-libxext-1.3.4-h0b41bf4_2\n",
            "  xorg-libxrender    conda-forge/linux-64::xorg-libxrender-0.9.10-h7f98852_1003\n",
            "  xorg-renderproto   conda-forge/linux-64::xorg-renderproto-0.11.1-h7f98852_1002\n",
            "  xorg-xextproto     conda-forge/linux-64::xorg-xextproto-7.3.0-h0b41bf4_1003\n",
            "  xorg-xproto        conda-forge/linux-64::xorg-xproto-7.0.31-h7f98852_1007\n",
            "  xyzservices        conda-forge/noarch::xyzservices-2023.7.0-pyhd8ed1ab_0\n",
            "  yaml               conda-forge/linux-64::yaml-0.2.5-h7f98852_2\n",
            "  yarl               conda-forge/linux-64::yarl-1.9.2-py310h2372a71_0\n",
            "  zeromq             conda-forge/linux-64::zeromq-4.3.4-h9c3ff4c_1\n",
            "  zfp                conda-forge/linux-64::zfp-1.0.0-h27087fc_3\n",
            "  zict               conda-forge/noarch::zict-3.0.0-pyhd8ed1ab_0\n",
            "  zipp               conda-forge/noarch::zipp-3.16.2-pyhd8ed1ab_0\n",
            "  zlib               conda-forge/linux-64::zlib-1.2.13-h166bdaf_4\n",
            "  zlib-ng            conda-forge/linux-64::zlib-ng-2.0.7-h0b41bf4_0\n",
            "\n",
            "The following packages will be UPDATED:\n",
            "\n",
            "  ca-certificates                      2022.12.7-ha878542_0 --> 2023.7.22-hbcca054_0\n",
            "  certifi                            2022.12.7-pyhd8ed1ab_0 --> 2023.7.22-pyhd8ed1ab_0\n",
            "  conda                              23.1.0-py310hff52083_0 --> 23.3.1-py310hff52083_0\n",
            "  openssl                                  3.1.0-h0b41bf4_0 --> 3.1.2-hd590300_0\n",
            "\n",
            "The following packages will be DOWNGRADED:\n",
            "\n",
            "  icu                                       72.1-hcb278e6_0 --> 70.1-h27087fc_0\n",
            "  libxml2                                 2.10.3-hfdac1af_6 --> 2.10.3-hca2bb57_4\n",
            "  lz4-c                                    1.9.4-hcb278e6_0 --> 1.9.3-h9c3ff4c_1\n",
            "\n",
            "\n",
            "\n",
            "Downloading and Extracting Packages\n",
            "\n",
            "Preparing transaction: ...working... done\n",
            "Verifying transaction: ...working... done\n",
            "\n",
            "\n",
            "The following PRELINK MESSAGES are INCLUDED:\n",
            "\n",
            "\n",
            "  File nvcomp.txt:\n",
            "\n",
            "  By downloading and using the libcudf conda package, you accept the terms\n",
            "  and conditions of the NVIDIA NVCOMP Software License Agreement:\n",
            "    https://developer.download.nvidia.com/compute/nvcomp/2.3/LICENSE.txt\n",
            "\n",
            "\n",
            "Executing transaction: ...working... By downloading and using the CUDA Toolkit conda packages, you accept the terms and conditions of the CUDA End User License Agreement (EULA): https://docs.nvidia.com/cuda/eula/index.html\n",
            "\n",
            "By downloading and using the CubinLinker conda packages, you accept the terms and conditions of the CubinLinker License Agreement: https://docs.rapids.ai/licenses/CubinLinker.txt\n",
            "\n",
            "done\n",
            "RAPIDS conda installation complete.  Updating Colab's libraries...\n",
            "Copying /usr/local/lib/libcudf.so to /usr/lib/libcudf.so\n",
            "Copying /usr/local/lib/libnccl.so to /usr/lib/libnccl.so\n",
            "Copying /usr/local/lib/libcuml.so to /usr/lib/libcuml.so\n",
            "Copying /usr/local/lib/libcugraph.so to /usr/lib/libcugraph.so\n",
            "Copying /usr/local/lib/libxgboost.so to /usr/lib/libxgboost.so\n",
            "Copying /usr/local/lib/libcuspatial.so to /usr/lib/libcuspatial.so\n",
            "Copying /usr/local/lib/libgeos.so to /usr/lib/libgeos.so\n",
            "Copying /usr/local/lib/libgeos_c.so to /usr/lib/libgeos_c.so\n"
          ]
        }
      ]
    },
    {
      "cell_type": "markdown",
      "metadata": {
        "id": "pZJMJ6BulmMn"
      },
      "source": [
        "# RAPIDS is now installed on Colab.  You can copy your code into the cells below.  Enjoy!"
      ]
    },
    {
      "cell_type": "code",
      "metadata": {
        "id": "4nLrk46BllED"
      },
      "source": [
        "import cudf, cuml, cugraph, cuspatial"
      ],
      "execution_count": 4,
      "outputs": []
    },
    {
      "cell_type": "code",
      "source": [
        "cudf.__version__"
      ],
      "metadata": {
        "colab": {
          "base_uri": "https://localhost:8080/",
          "height": 35
        },
        "id": "bvcxjJOCX1tL",
        "outputId": "07f30b45-236d-4ad3-cc58-05ab56991fdf"
      },
      "execution_count": 5,
      "outputs": [
        {
          "output_type": "execute_result",
          "data": {
            "text/plain": [
              "'23.04.01'"
            ],
            "application/vnd.google.colaboratory.intrinsic+json": {
              "type": "string"
            }
          },
          "metadata": {},
          "execution_count": 5
        }
      ]
    },
    {
      "cell_type": "code",
      "source": [
        "import cudf\n",
        "from cuml import make_regression, train_test_split\n",
        "from cuml.linear_model import LinearRegression as cuLinearRegression\n",
        "from cuml.metrics.regression import r2_score\n",
        "from sklearn.linear_model import LinearRegression as skLinearRegression"
      ],
      "metadata": {
        "id": "9woBo2atYLb6"
      },
      "execution_count": 7,
      "outputs": []
    },
    {
      "cell_type": "code",
      "source": [
        "n_samples = 2**10\n",
        "n_features = 399\n",
        "\n",
        "random_state = 23"
      ],
      "metadata": {
        "id": "eZk0XHMYYOwy"
      },
      "execution_count": 8,
      "outputs": []
    },
    {
      "cell_type": "code",
      "source": [
        "## Lets generate some random regression data\n",
        "\n",
        "%%time\n",
        "X, y = make_regression(n_samples=n_samples, n_features=n_features, random_state=random_state)\n",
        "\n",
        "X = cudf.DataFrame(X)\n",
        "y = cudf.DataFrame(y)[0]\n",
        "\n",
        "X_cudf, X_cudf_test, y_cudf, y_cudf_test = train_test_split(X, y, test_size = 0.2, random_state=random_state)"
      ],
      "metadata": {
        "id": "SQhkDaPZYWDk",
        "outputId": "7c389444-47ff-4178-b607-872c1e2c3a3f",
        "colab": {
          "base_uri": "https://localhost:8080/"
        }
      },
      "execution_count": 9,
      "outputs": [
        {
          "output_type": "stream",
          "name": "stdout",
          "text": [
            "CPU times: user 7.05 s, sys: 2.74 s, total: 9.79 s\n",
            "Wall time: 24.5 s\n"
          ]
        }
      ]
    },
    {
      "cell_type": "code",
      "source": [
        "\n",
        "# Copy dataset from GPU memory to host memory.\n",
        "# This is done to later compare CPU and GPU results.\n",
        "X_train = X_cudf.to_pandas()\n",
        "X_test = X_cudf_test.to_pandas()\n",
        "y_train = y_cudf.to_pandas()\n",
        "y_test = y_cudf_test.to_pandas()"
      ],
      "metadata": {
        "id": "CZrXPjnEYnVq"
      },
      "execution_count": 10,
      "outputs": []
    },
    {
      "cell_type": "code",
      "source": [
        "y_train"
      ],
      "metadata": {
        "id": "dwWGSFdVYpt0",
        "outputId": "9a154f82-8c95-4fc4-bf30-87bad484e4b7",
        "colab": {
          "base_uri": "https://localhost:8080/"
        }
      },
      "execution_count": 11,
      "outputs": [
        {
          "output_type": "execute_result",
          "data": {
            "text/plain": [
              "361    -85.167145\n",
              "827    224.439575\n",
              "449     81.067795\n",
              "637   -121.376869\n",
              "681    125.091248\n",
              "          ...    \n",
              "636     67.527672\n",
              "111     65.826965\n",
              "370    -45.145653\n",
              "793   -192.539856\n",
              "862     83.689346\n",
              "Name: 0, Length: 820, dtype: float32"
            ]
          },
          "metadata": {},
          "execution_count": 11
        }
      ]
    },
    {
      "cell_type": "code",
      "source": [
        "%%time\n",
        "ols_sk = skLinearRegression(fit_intercept=True,\n",
        "                            # normalize=True,\n",
        "                            n_jobs=-1)\n",
        "\n",
        "ols_sk.fit(X_train, y_train)"
      ],
      "metadata": {
        "id": "sXZGg4J5YqMA",
        "outputId": "5079d00e-c0cb-4df9-99af-06f63b2938d2",
        "colab": {
          "base_uri": "https://localhost:8080/",
          "height": 111
        }
      },
      "execution_count": 13,
      "outputs": [
        {
          "output_type": "stream",
          "name": "stdout",
          "text": [
            "CPU times: user 75.3 ms, sys: 69.9 ms, total: 145 ms\n",
            "Wall time: 147 ms\n"
          ]
        },
        {
          "output_type": "execute_result",
          "data": {
            "text/plain": [
              "LinearRegression(n_jobs=-1)"
            ],
            "text/html": [
              "<style>#sk-container-id-1 {color: black;}#sk-container-id-1 pre{padding: 0;}#sk-container-id-1 div.sk-toggleable {background-color: white;}#sk-container-id-1 label.sk-toggleable__label {cursor: pointer;display: block;width: 100%;margin-bottom: 0;padding: 0.3em;box-sizing: border-box;text-align: center;}#sk-container-id-1 label.sk-toggleable__label-arrow:before {content: \"▸\";float: left;margin-right: 0.25em;color: #696969;}#sk-container-id-1 label.sk-toggleable__label-arrow:hover:before {color: black;}#sk-container-id-1 div.sk-estimator:hover label.sk-toggleable__label-arrow:before {color: black;}#sk-container-id-1 div.sk-toggleable__content {max-height: 0;max-width: 0;overflow: hidden;text-align: left;background-color: #f0f8ff;}#sk-container-id-1 div.sk-toggleable__content pre {margin: 0.2em;color: black;border-radius: 0.25em;background-color: #f0f8ff;}#sk-container-id-1 input.sk-toggleable__control:checked~div.sk-toggleable__content {max-height: 200px;max-width: 100%;overflow: auto;}#sk-container-id-1 input.sk-toggleable__control:checked~label.sk-toggleable__label-arrow:before {content: \"▾\";}#sk-container-id-1 div.sk-estimator input.sk-toggleable__control:checked~label.sk-toggleable__label {background-color: #d4ebff;}#sk-container-id-1 div.sk-label input.sk-toggleable__control:checked~label.sk-toggleable__label {background-color: #d4ebff;}#sk-container-id-1 input.sk-hidden--visually {border: 0;clip: rect(1px 1px 1px 1px);clip: rect(1px, 1px, 1px, 1px);height: 1px;margin: -1px;overflow: hidden;padding: 0;position: absolute;width: 1px;}#sk-container-id-1 div.sk-estimator {font-family: monospace;background-color: #f0f8ff;border: 1px dotted black;border-radius: 0.25em;box-sizing: border-box;margin-bottom: 0.5em;}#sk-container-id-1 div.sk-estimator:hover {background-color: #d4ebff;}#sk-container-id-1 div.sk-parallel-item::after {content: \"\";width: 100%;border-bottom: 1px solid gray;flex-grow: 1;}#sk-container-id-1 div.sk-label:hover label.sk-toggleable__label {background-color: #d4ebff;}#sk-container-id-1 div.sk-serial::before {content: \"\";position: absolute;border-left: 1px solid gray;box-sizing: border-box;top: 0;bottom: 0;left: 50%;z-index: 0;}#sk-container-id-1 div.sk-serial {display: flex;flex-direction: column;align-items: center;background-color: white;padding-right: 0.2em;padding-left: 0.2em;position: relative;}#sk-container-id-1 div.sk-item {position: relative;z-index: 1;}#sk-container-id-1 div.sk-parallel {display: flex;align-items: stretch;justify-content: center;background-color: white;position: relative;}#sk-container-id-1 div.sk-item::before, #sk-container-id-1 div.sk-parallel-item::before {content: \"\";position: absolute;border-left: 1px solid gray;box-sizing: border-box;top: 0;bottom: 0;left: 50%;z-index: -1;}#sk-container-id-1 div.sk-parallel-item {display: flex;flex-direction: column;z-index: 1;position: relative;background-color: white;}#sk-container-id-1 div.sk-parallel-item:first-child::after {align-self: flex-end;width: 50%;}#sk-container-id-1 div.sk-parallel-item:last-child::after {align-self: flex-start;width: 50%;}#sk-container-id-1 div.sk-parallel-item:only-child::after {width: 0;}#sk-container-id-1 div.sk-dashed-wrapped {border: 1px dashed gray;margin: 0 0.4em 0.5em 0.4em;box-sizing: border-box;padding-bottom: 0.4em;background-color: white;}#sk-container-id-1 div.sk-label label {font-family: monospace;font-weight: bold;display: inline-block;line-height: 1.2em;}#sk-container-id-1 div.sk-label-container {text-align: center;}#sk-container-id-1 div.sk-container {/* jupyter's `normalize.less` sets `[hidden] { display: none; }` but bootstrap.min.css set `[hidden] { display: none !important; }` so we also need the `!important` here to be able to override the default hidden behavior on the sphinx rendered scikit-learn.org. See: https://github.com/scikit-learn/scikit-learn/issues/21755 */display: inline-block !important;position: relative;}#sk-container-id-1 div.sk-text-repr-fallback {display: none;}</style><div id=\"sk-container-id-1\" class=\"sk-top-container\"><div class=\"sk-text-repr-fallback\"><pre>LinearRegression(n_jobs=-1)</pre><b>In a Jupyter environment, please rerun this cell to show the HTML representation or trust the notebook. <br />On GitHub, the HTML representation is unable to render, please try loading this page with nbviewer.org.</b></div><div class=\"sk-container\" hidden><div class=\"sk-item\"><div class=\"sk-estimator sk-toggleable\"><input class=\"sk-toggleable__control sk-hidden--visually\" id=\"sk-estimator-id-1\" type=\"checkbox\" checked><label for=\"sk-estimator-id-1\" class=\"sk-toggleable__label sk-toggleable__label-arrow\">LinearRegression</label><div class=\"sk-toggleable__content\"><pre>LinearRegression(n_jobs=-1)</pre></div></div></div></div></div>"
            ]
          },
          "metadata": {},
          "execution_count": 13
        }
      ]
    },
    {
      "cell_type": "code",
      "source": [
        "%%time\n",
        "predict_sk = ols_sk.predict(X_test)"
      ],
      "metadata": {
        "id": "P5OB68UMZ49_",
        "outputId": "ae0be98e-b21c-4945-b3ed-aecfb8f824c5",
        "colab": {
          "base_uri": "https://localhost:8080/"
        }
      },
      "execution_count": 14,
      "outputs": [
        {
          "output_type": "stream",
          "name": "stdout",
          "text": [
            "CPU times: user 7.02 ms, sys: 1 ms, total: 8.02 ms\n",
            "Wall time: 30.1 ms\n"
          ]
        }
      ]
    },
    {
      "cell_type": "code",
      "source": [
        "%%time\n",
        "r2_score_sk = r2_score(y_cudf_test, predict_sk)"
      ],
      "metadata": {
        "id": "tHHqWsHMZ4zh",
        "outputId": "a3750229-3955-431b-9dad-532fc841a4dc",
        "colab": {
          "base_uri": "https://localhost:8080/"
        }
      },
      "execution_count": 15,
      "outputs": [
        {
          "output_type": "stream",
          "name": "stdout",
          "text": [
            "CPU times: user 3.2 ms, sys: 2.08 ms, total: 5.28 ms\n",
            "Wall time: 19.6 ms\n"
          ]
        }
      ]
    },
    {
      "cell_type": "code",
      "source": [
        "\n",
        "%%time\n",
        "ols_cuml = cuLinearRegression(fit_intercept=True,\n",
        "                              normalize=True,\n",
        "                              algorithm='eig')\n",
        "\n",
        "ols_cuml.fit(X_cudf, y_cudf)"
      ],
      "metadata": {
        "id": "4nVcMVqFZ4oi",
        "outputId": "70d0803f-ef8d-4e17-cb06-91fbcaea009a",
        "colab": {
          "base_uri": "https://localhost:8080/"
        }
      },
      "execution_count": 16,
      "outputs": [
        {
          "output_type": "stream",
          "name": "stdout",
          "text": [
            "CPU times: user 61.1 ms, sys: 3.64 ms, total: 64.7 ms\n",
            "Wall time: 125 ms\n"
          ]
        },
        {
          "output_type": "execute_result",
          "data": {
            "text/plain": [
              "LinearRegression()"
            ]
          },
          "metadata": {},
          "execution_count": 16
        }
      ]
    },
    {
      "cell_type": "code",
      "source": [
        "%%time\n",
        "predict_cuml = ols_cuml.predict(X_cudf_test)"
      ],
      "metadata": {
        "id": "lnOCgGjmZ4MQ",
        "outputId": "0da284f8-0c40-491b-d754-fd1c4ebfabad",
        "colab": {
          "base_uri": "https://localhost:8080/"
        }
      },
      "execution_count": 17,
      "outputs": [
        {
          "output_type": "stream",
          "name": "stdout",
          "text": [
            "CPU times: user 104 ms, sys: 1.29 ms, total: 105 ms\n",
            "Wall time: 144 ms\n"
          ]
        }
      ]
    },
    {
      "cell_type": "code",
      "source": [
        "\n",
        "%%time\n",
        "r2_score_cuml = r2_score(y_cudf_test, predict_cuml)"
      ],
      "metadata": {
        "id": "nmUjXTcXaqEV",
        "outputId": "43c538ae-73f1-4691-da54-e5ba060dcfd0",
        "colab": {
          "base_uri": "https://localhost:8080/"
        }
      },
      "execution_count": 18,
      "outputs": [
        {
          "output_type": "stream",
          "name": "stdout",
          "text": [
            "CPU times: user 1.19 ms, sys: 23 µs, total: 1.22 ms\n",
            "Wall time: 1.23 ms\n"
          ]
        }
      ]
    },
    {
      "cell_type": "code",
      "source": [
        "\n",
        "print(\"R^2 score (SKL):  %s\" % r2_score_sk)\n",
        "print(\"R^2 score (cuML): %s\" % r2_score_cuml)"
      ],
      "metadata": {
        "id": "wv4Vg5CIa8aD",
        "outputId": "929a4280-1c44-4e0d-dacc-acbc0963f75e",
        "colab": {
          "base_uri": "https://localhost:8080/"
        }
      },
      "execution_count": 19,
      "outputs": [
        {
          "output_type": "stream",
          "name": "stdout",
          "text": [
            "R^2 score (SKL):  1.0\n",
            "R^2 score (cuML): 1.0\n"
          ]
        }
      ]
    },
    {
      "cell_type": "code",
      "source": [
        "from sklearn.ensemble import RandomForestRegressor\n",
        "from cuml.ensemble import RandomForestRegressor"
      ],
      "metadata": {
        "id": "Qb1NX1scbIzD"
      },
      "execution_count": 20,
      "outputs": []
    },
    {
      "cell_type": "markdown",
      "metadata": {
        "id": "Dlsyk9m9NN2K"
      },
      "source": [
        "# Next Steps #\n",
        "\n",
        "For an overview of how you can access and work with your own datasets in Colab, check out [this guide](https://towardsdatascience.com/3-ways-to-load-csv-files-into-colab-7c14fcbdcb92).\n",
        "\n",
        "For more RAPIDS examples, check out our RAPIDS notebooks repos:\n",
        "1. https://github.com/rapidsai/notebooks\n",
        "2. https://github.com/rapidsai/notebooks-contrib"
      ]
    },
    {
      "cell_type": "code",
      "source": [],
      "metadata": {
        "id": "q78i8uByXLsJ"
      },
      "execution_count": null,
      "outputs": []
    }
  ]
}